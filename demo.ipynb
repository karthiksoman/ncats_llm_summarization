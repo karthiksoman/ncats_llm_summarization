{
 "cells": [
  {
   "cell_type": "code",
   "execution_count": 8,
   "id": "fd414d81-b660-463c-804c-6ed4c369ed21",
   "metadata": {},
   "outputs": [],
   "source": [
    "import json\n",
    "import requests"
   ]
  },
  {
   "cell_type": "markdown",
   "id": "20c7d8ef-b754-47fa-aa66-4afeedb510b6",
   "metadata": {},
   "source": [
    "## Load data from Translator UI"
   ]
  },
  {
   "cell_type": "code",
   "execution_count": 48,
   "id": "a9a55593-056f-4d98-8926-ba98de6be07d",
   "metadata": {},
   "outputs": [],
   "source": [
    "'''\n",
    "Note: This data has the user query and the answers corresponding to the query along with the biological context for those answers.\n",
    "This will be used to create the summary.\n",
    "'''\n",
    "\n",
    "data_path = 'sample_data/mvp1-2ad7c20f-c252-4c15-bdf2-f4e4b5e7b50c.json'\n",
    "# data_path = 'sample_data/mvp2-c4b08dec-2c29-40c2-9e0a-4ffdf5ffe0cc.json'\n",
    "\n",
    "with open(data_path, 'r') as f:\n",
    "    data = json.load(f)\n",
    "\n"
   ]
  },
  {
   "cell_type": "markdown",
   "id": "e3cc9103-58ee-42e7-b069-0bc03e0645f3",
   "metadata": {},
   "source": [
    "## API endpoint"
   ]
  },
  {
   "cell_type": "code",
   "execution_count": 51,
   "id": "31610a76-0398-4341-a6fd-01f463162460",
   "metadata": {},
   "outputs": [],
   "source": [
    "\n",
    "api_endpoint = \"https://biosummary.pythonanywhere.com/summary\"\n"
   ]
  },
  {
   "cell_type": "markdown",
   "id": "58c692de-0b22-4753-914a-a59bb68e827e",
   "metadata": {},
   "source": [
    "## Calling API"
   ]
  },
  {
   "cell_type": "code",
   "execution_count": 52,
   "id": "2420b91f-af7a-4fb3-b167-88195bac9b69",
   "metadata": {},
   "outputs": [
    {
     "name": "stdout",
     "output_type": "stream",
     "text": [
      "Ehlers-Danlos syndrome, hypermobility type (hEDS), is a genetic connective tissue disorder characterized by joint hypermobility, skin hyper-elasticity, and various complications such as chronic pain, anxiety, and other related phenotypes. Multiple pharmacological agents have been explored for their potential to alleviate the symptoms and associated conditions of hEDS. Cyclosporine has been shown to enhance COL3A1 gene activity, which is crucial for collagen production, thereby potentially mitigating symptoms like gingival overgrowth and arthralgia. Citalopram, a selective serotonin reuptake inhibitor, is under investigation for its efficacy in treating anxiety and depressive disorders, which are prevalent among hEDS patients, thus contributing to improved mental health and pain management. Lidocaine is utilized for its analgesic properties in managing chronic pain, myalgia, and additional symptoms including cardiac rhythm issues and migraines, with ongoing trials assessing its effectiveness for various hEDS-related conditions. Sodium chloride is being tested for its role in alleviating anxiety, constipation, and other complications linked to hEDS. Cortisol and adrenal cortex hormones are both implicated in treating chronic pain, fatigue, and depressive symptoms, suggesting a hormonal approach to managing the syndrome. Other drugs, including non-steroidal anti-inflammatory agents, gabapentin, and opioids, have also been examined for their analgesic effects on chronic pain and joint-related disorders specific to hEDS. The use of antidepressants like duloxetine, venlafaxine, and fluoxetine further highlights the psychological dimensions of hEDS, targeting anxiety and depressive disorders alongside physical symptoms. This multi-drug approach underscores the complexity of hEDS management, necessitating tailored treatment plans that address both the physical and psychological aspects of the disorder. Overall, the therapeutic landscape for hEDS is diverse, with ongoing clinical trials to further elucidate the effectiveness of these interventions."
     ]
    }
   ],
   "source": [
    "def stream_response(url, data):\n",
    "    headers = {'Content-Type': 'application/json'}\n",
    "    response = requests.post(url, json=data, headers=headers, stream=True)\n",
    "    \n",
    "    if response.status_code == 200:\n",
    "        for chunk in response.iter_content(chunk_size=1, decode_unicode=True):\n",
    "            if chunk:\n",
    "                print(chunk, end='', flush=True)\n",
    "    else:\n",
    "        print(f\"Error: {response.status_code}\")\n",
    "        print(response.text)\n",
    "\n",
    "\n",
    "\n",
    "stream_response(api_endpoint, data)\n"
   ]
  },
  {
   "cell_type": "code",
   "execution_count": null,
   "id": "9624ce3b-3efa-4545-a2fc-1ab2a129abde",
   "metadata": {},
   "outputs": [],
   "source": []
  }
 ],
 "metadata": {
  "kernelspec": {
   "display_name": "Python 3 (ipykernel)",
   "language": "python",
   "name": "python3"
  },
  "language_info": {
   "codemirror_mode": {
    "name": "ipython",
    "version": 3
   },
   "file_extension": ".py",
   "mimetype": "text/x-python",
   "name": "python",
   "nbconvert_exporter": "python",
   "pygments_lexer": "ipython3",
   "version": "3.10.9"
  }
 },
 "nbformat": 4,
 "nbformat_minor": 5
}
