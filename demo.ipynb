{
 "cells": [
  {
   "cell_type": "code",
   "execution_count": 8,
   "id": "fd414d81-b660-463c-804c-6ed4c369ed21",
   "metadata": {},
   "outputs": [],
   "source": [
    "import json\n",
    "import requests"
   ]
  },
  {
   "cell_type": "markdown",
   "id": "20c7d8ef-b754-47fa-aa66-4afeedb510b6",
   "metadata": {},
   "source": [
    "## Load data from Translator UI"
   ]
  },
  {
   "cell_type": "code",
   "execution_count": 56,
   "id": "a9a55593-056f-4d98-8926-ba98de6be07d",
   "metadata": {},
   "outputs": [],
   "source": [
    "'''\n",
    "Note: This data has the user query and the answers corresponding to the query along with the biological context for those answers.\n",
    "This will be used to create the summary.\n",
    "'''\n",
    "\n",
    "data_path = 'sample_data/mvp1-2ad7c20f-c252-4c15-bdf2-f4e4b5e7b50c.json'\n",
    "# data_path = 'sample_data/mvp2-c4b08dec-2c29-40c2-9e0a-4ffdf5ffe0cc.json'\n",
    "\n",
    "with open(data_path, 'r') as f:\n",
    "    data = json.load(f)\n",
    "\n"
   ]
  },
  {
   "cell_type": "markdown",
   "id": "e3cc9103-58ee-42e7-b069-0bc03e0645f3",
   "metadata": {},
   "source": [
    "## API endpoint"
   ]
  },
  {
   "cell_type": "code",
   "execution_count": 57,
   "id": "31610a76-0398-4341-a6fd-01f463162460",
   "metadata": {},
   "outputs": [],
   "source": [
    "\n",
    "api_endpoint = \"https://biosummary.pythonanywhere.com/summary\"\n"
   ]
  },
  {
   "cell_type": "markdown",
   "id": "58c692de-0b22-4753-914a-a59bb68e827e",
   "metadata": {},
   "source": [
    "## Calling API"
   ]
  },
  {
   "cell_type": "code",
   "execution_count": 58,
   "id": "2420b91f-af7a-4fb3-b167-88195bac9b69",
   "metadata": {},
   "outputs": [
    {
     "name": "stdout",
     "output_type": "stream",
     "text": [
      "ADNP (Activity-dependent neuroprotective protein) is a neuroprotective factor involved in various cellular processes, including neurogenesis and neuronal survival. Several chemicals have been identified that may decrease the activity of ADNP through different biological mechanisms, primarily by influencing the abundance or activity of upstream regulatory proteins such as GSK3B (Glycogen synthase kinase 3 beta) and MAPT (Microtubule-associated protein tau). \n",
      "\n",
      "Chemicals such as nitrates, linoleic acid, carvedilol, and melphalan lower the activity or abundance of GSK3B. Since GSK3B typically inhibits ADNP, its reduction leads to an increase in ADNP activity. Conversely, substances like ethanol and OLOMOUCINE, which decrease MAPT activity, can upregulate ADNP, indicating a complex interplay where the reduction of certain pathways can lead to increased ADNP activity. In this context, the role of IGFBP3 (Insulin-like growth factor-binding protein 3) is also significant; many compounds, including HC-Toxin and tretinoin, cause increased expression of IGFBP3, which in turn can lead to decreased ADNP activity.\n",
      "\n",
      "Moreover, several other compounds like doxycycline, vitamin E, and rifampicin have been noted for their ability to decrease the activity of GSK3B, thus indirectly promoting ADNP activity. In contrast, various agents such as formalin and butyric acid have been shown to decrease MAPT, leading to an increased ADNP activity, illustrating the nuanced relationship among these proteins. \n",
      "\n",
      "In summary, the modulation of ADNP activity is achieved through a diverse array of chemicals that affect the regulatory pathways associated with GSK3B and MAPT, with many of these interactions centered around the expression of IGFBP3. Understanding these interactions opens avenues for therapeutic strategies targeting neuroprotection through the regulation of ADNP."
     ]
    }
   ],
   "source": [
    "def stream_response(url, data):\n",
    "    headers = {'Content-Type': 'application/json'}\n",
    "    response = requests.post(url, json=data, headers=headers, stream=True)\n",
    "    \n",
    "    if response.status_code == 200:\n",
    "        for chunk in response.iter_content(chunk_size=1, decode_unicode=True):\n",
    "            if chunk:\n",
    "                print(chunk, end='', flush=True)\n",
    "    else:\n",
    "        print(f\"Error: {response.status_code}\")\n",
    "        print(response.text)\n",
    "\n",
    "\n",
    "\n",
    "stream_response(api_endpoint, data)\n"
   ]
  },
  {
   "cell_type": "code",
   "execution_count": null,
   "id": "9624ce3b-3efa-4545-a2fc-1ab2a129abde",
   "metadata": {},
   "outputs": [],
   "source": []
  }
 ],
 "metadata": {
  "kernelspec": {
   "display_name": "Python 3 (ipykernel)",
   "language": "python",
   "name": "python3"
  },
  "language_info": {
   "codemirror_mode": {
    "name": "ipython",
    "version": 3
   },
   "file_extension": ".py",
   "mimetype": "text/x-python",
   "name": "python",
   "nbconvert_exporter": "python",
   "pygments_lexer": "ipython3",
   "version": "3.10.9"
  }
 },
 "nbformat": 4,
 "nbformat_minor": 5
}
