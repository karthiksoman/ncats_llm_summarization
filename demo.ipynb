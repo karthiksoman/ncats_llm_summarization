{
 "cells": [
  {
   "cell_type": "code",
   "execution_count": 8,
   "id": "fd414d81-b660-463c-804c-6ed4c369ed21",
   "metadata": {},
   "outputs": [],
   "source": [
    "import json\n",
    "import requests"
   ]
  },
  {
   "cell_type": "markdown",
   "id": "20c7d8ef-b754-47fa-aa66-4afeedb510b6",
   "metadata": {},
   "source": [
    "## Load data from Translator UI"
   ]
  },
  {
   "cell_type": "code",
   "execution_count": 65,
   "id": "a9a55593-056f-4d98-8926-ba98de6be07d",
   "metadata": {},
   "outputs": [],
   "source": [
    "'''\n",
    "Note: This data has the user query and the answers corresponding to the query along with the biological context for those answers.\n",
    "This will be used to create the summary.\n",
    "'''\n",
    "\n",
    "data_path = 'sample_data/mvp1-2ad7c20f-c252-4c15-bdf2-f4e4b5e7b50c.json'\n",
    "# data_path = 'sample_data/mvp2-c4b08dec-2c29-40c2-9e0a-4ffdf5ffe0cc.json'\n",
    "\n",
    "with open(data_path, 'r') as f:\n",
    "    data = json.load(f)\n",
    "\n"
   ]
  },
  {
   "cell_type": "markdown",
   "id": "e3cc9103-58ee-42e7-b069-0bc03e0645f3",
   "metadata": {},
   "source": [
    "## API endpoint"
   ]
  },
  {
   "cell_type": "code",
   "execution_count": 66,
   "id": "31610a76-0398-4341-a6fd-01f463162460",
   "metadata": {},
   "outputs": [],
   "source": [
    "\n",
    "api_endpoint = \"https://biosummary.pythonanywhere.com/summary\"\n"
   ]
  },
  {
   "cell_type": "markdown",
   "id": "58c692de-0b22-4753-914a-a59bb68e827e",
   "metadata": {},
   "source": [
    "## Calling API"
   ]
  },
  {
   "cell_type": "code",
   "execution_count": 67,
   "id": "2420b91f-af7a-4fb3-b167-88195bac9b69",
   "metadata": {},
   "outputs": [
    {
     "name": "stdout",
     "output_type": "stream",
     "text": [
      "Ehlers-Danlos syndrome, hypermobility type (hEDS) is a connective tissue disorder characterized by joint hypermobility and a wide array of associated symptoms including chronic pain, anxiety, depressive disorders, and other musculoskeletal complications. A multifaceted approach to treatment often involves the use of various medications aimed at alleviating these symptoms. Several drugs have been studied or applied in clinical settings for managing conditions related to hEDS.\n",
      "\n",
      "Cyclophosphamide is particularly noteworthy for its role in enhancing the activity of the COL3A1 gene associated with hEDS and has been explored for treating specific phenotypes such as gingival overgrowth, xerophthalmia, and arthralgia. Citalopram, a selective serotonin reuptake inhibitor (SSRI), addresses the psychiatric symptoms associated with hEDS, including anxiety and depressive disorders, and has been evaluated in clinical trials for these conditions. Lidocaine, known for its analgesic properties, is used for preventing and managing chronic pain, myalgia, and various forms of pain related to hEDS. \n",
      "\n",
      "Sodium chloride and adrenal cortex hormones have also been investigated for their potential benefits in treating anxiety, depressive disorders, and chronic pain, underscoring the importance of managing both physical and psychological symptoms in hEDS patients. Other medications such as dexamethasone, paracetamol, and melatonin have demonstrated efficacy in treating migraine disorders, osteoarthritis, fatigue, and other conditions associated with hEDS.\n",
      "\n",
      "A range of non-steroidal anti-inflammatory drugs (NSAIDs) like ibuprofen and diclofenac is routinely applied to manage pain and inflammation, while drugs like gabapentin, pregabalin, and opioids are utilized for neuropathic pain relief. Additionally, several antidepressants—such as venlafaxine and duloxetine—are frequently used to address both pain and mood disorders.\n",
      "\n",
      "Emerging treatments, including various botulinum toxins and ONABOTULINUMTOXINA, have been explored in clinical trials for their potential in managing chronic pain and migraine disorders linked to hEDS. The integration of these treatments reflects the complexity of hEDS, necessitating personalized therapeutic strategies that encompass the diverse range of symptoms experienced by patients. \n",
      "\n",
      "In summary, a multitude of pharmacological options exists for the treatment of conditions related to Ehlers-Danlos syndrome, hypermobility type, targeting pain management, mental health, and other associated phenotypes, highlighting the need for an individualized and comprehensive approach to care."
     ]
    }
   ],
   "source": [
    "def stream_response(url, data):\n",
    "    headers = {'Content-Type': 'application/json'}\n",
    "    response = requests.post(url, json=data, headers=headers, stream=True)\n",
    "    \n",
    "    if response.status_code == 200:\n",
    "        for chunk in response.iter_content(chunk_size=1, decode_unicode=True):\n",
    "            if chunk:\n",
    "                print(chunk, end='', flush=True)\n",
    "    else:\n",
    "        print(f\"Error: {response.status_code}\")\n",
    "        print(response.text)\n",
    "\n",
    "\n",
    "\n",
    "stream_response(api_endpoint, data)\n"
   ]
  },
  {
   "cell_type": "code",
   "execution_count": null,
   "id": "9624ce3b-3efa-4545-a2fc-1ab2a129abde",
   "metadata": {},
   "outputs": [],
   "source": []
  }
 ],
 "metadata": {
  "kernelspec": {
   "display_name": "Python 3 (ipykernel)",
   "language": "python",
   "name": "python3"
  },
  "language_info": {
   "codemirror_mode": {
    "name": "ipython",
    "version": 3
   },
   "file_extension": ".py",
   "mimetype": "text/x-python",
   "name": "python",
   "nbconvert_exporter": "python",
   "pygments_lexer": "ipython3",
   "version": "3.10.9"
  }
 },
 "nbformat": 4,
 "nbformat_minor": 5
}
