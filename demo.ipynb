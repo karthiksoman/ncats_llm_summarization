{
 "cells": [
  {
   "cell_type": "code",
   "execution_count": 1,
   "id": "fd414d81-b660-463c-804c-6ed4c369ed21",
   "metadata": {},
   "outputs": [],
   "source": [
    "import json\n",
    "import requests"
   ]
  },
  {
   "cell_type": "markdown",
   "id": "20c7d8ef-b754-47fa-aa66-4afeedb510b6",
   "metadata": {},
   "source": [
    "## Load data from Translator UI"
   ]
  },
  {
   "cell_type": "code",
   "execution_count": 2,
   "id": "a9a55593-056f-4d98-8926-ba98de6be07d",
   "metadata": {},
   "outputs": [],
   "source": [
    "'''\n",
    "Note: This data has the user query and the answers corresponding to the query along with the biological context for those answers.\n",
    "This will be used to create the summary.\n",
    "'''\n",
    "\n",
    "data_path = 'sample_data/mvp1-2ad7c20f-c252-4c15-bdf2-f4e4b5e7b50c.json'\n",
    "\n",
    "with open(data_path, 'r') as f:\n",
    "    data = json.load(f)\n",
    "\n"
   ]
  },
  {
   "cell_type": "markdown",
   "id": "e3cc9103-58ee-42e7-b069-0bc03e0645f3",
   "metadata": {},
   "source": [
    "## API endpoint"
   ]
  },
  {
   "cell_type": "code",
   "execution_count": 3,
   "id": "31610a76-0398-4341-a6fd-01f463162460",
   "metadata": {},
   "outputs": [],
   "source": [
    "\n",
    "api_endpoint = \"https://biosummary.pythonanywhere.com/summary\"\n"
   ]
  },
  {
   "cell_type": "markdown",
   "id": "58c692de-0b22-4753-914a-a59bb68e827e",
   "metadata": {},
   "source": [
    "## Calling API"
   ]
  },
  {
   "cell_type": "code",
   "execution_count": 4,
   "id": "2420b91f-af7a-4fb3-b167-88195bac9b69",
   "metadata": {},
   "outputs": [
    {
     "name": "stdout",
     "output_type": "stream",
     "text": [
      "The query explores potential drug treatments for Ehlers-Danlos syndrome, hypermobility type (EDS-HT). Multiple drugs such as cyclosporine, citalopram, lidocaine, sodium chloride, and others show promise in managing various symptoms associated with EDS-HT. Cyclosporine, an immunosuppressant, is being investigated for its role in treating arthralgia and xerophthalmia in EDS-HT patients, possibly through its impact on collagen synthesis by increasing the activity of COL3A1 gene. Citalopram, a selective serotonin reuptake inhibitor, has shown efficacy in managing depressive disorder and anxiety, prevalent comorbidities in EDS-HT. Lidocaine, primarily a local anesthetic, offers a diverse range of applications from managing myalgia to anxiety and scoliosis, common issues in EDS-HT. Additionally, drugs like cortisol and gabapentin target chronic pain, a significant symptom in EDS-HT, with cortisol also affecting genes like TGFB1 and COL5A1 involved in connective tissue integrity. Other drugs like ibuprofen, celecoxib, and diclofenac, known as non-steroidal anti-inflammatory drugs, are being explored for their potential in managing arthralgia, osteoarthritis, and chronic pain in EDS-HT patients. Furthermore, medications like ondansetron, magnesium sulfate, and venlafaxine are under investigation for managing symptoms like nausea, migraines, and anxiety in EDS-HT. These drugs target a wide range of symptoms and comorbidities associated with EDS-HT, reflecting the complex nature of the condition involving multiple body systems and the need for a comprehensive approach to symptom management. While many of these drugs are in clinical trials, their potential to improve the quality of life for individuals with EDS-HT is promising, highlighting the importance of further research and personalized treatment strategies for this rare connective tissue disorder."
     ]
    }
   ],
   "source": [
    "def stream_response(url, data):\n",
    "    headers = {'Content-Type': 'application/json'}\n",
    "    response = requests.post(url, json=data, headers=headers, stream=True)\n",
    "    \n",
    "    if response.status_code == 200:\n",
    "        for chunk in response.iter_content(chunk_size=1, decode_unicode=True):\n",
    "            if chunk:\n",
    "                print(chunk, end='', flush=True)\n",
    "    else:\n",
    "        print(f\"Error: {response.status_code}\")\n",
    "        print(response.text)\n",
    "\n",
    "\n",
    "\n",
    "stream_response(api_endpoint, data)\n"
   ]
  },
  {
   "cell_type": "code",
   "execution_count": null,
   "id": "e70411bf-58c5-40ee-a270-d0c7b35f25ea",
   "metadata": {},
   "outputs": [],
   "source": []
  }
 ],
 "metadata": {
  "kernelspec": {
   "display_name": "Python 3 (ipykernel)",
   "language": "python",
   "name": "python3"
  },
  "language_info": {
   "codemirror_mode": {
    "name": "ipython",
    "version": 3
   },
   "file_extension": ".py",
   "mimetype": "text/x-python",
   "name": "python",
   "nbconvert_exporter": "python",
   "pygments_lexer": "ipython3",
   "version": "3.10.9"
  }
 },
 "nbformat": 4,
 "nbformat_minor": 5
}
