{
 "cells": [
  {
   "cell_type": "code",
   "execution_count": 1,
   "id": "fd414d81-b660-463c-804c-6ed4c369ed21",
   "metadata": {},
   "outputs": [],
   "source": [
    "import json\n",
    "import requests"
   ]
  },
  {
   "cell_type": "markdown",
   "id": "20c7d8ef-b754-47fa-aa66-4afeedb510b6",
   "metadata": {},
   "source": [
    "## Load data from Translator UI"
   ]
  },
  {
   "cell_type": "code",
   "execution_count": 2,
   "id": "a9a55593-056f-4d98-8926-ba98de6be07d",
   "metadata": {},
   "outputs": [],
   "source": [
    "'''\n",
    "Note: This data has the user query and the answers corresponding to the query along with the biological context for those answers.\n",
    "This will be used to create the summary.\n",
    "'''\n",
    "\n",
    "data_path = '../data/mvp1-2ad7c20f-c252-4c15-bdf2-f4e4b5e7b50c.json'\n",
    "\n",
    "with open(data_path, 'r') as f:\n",
    "    data = json.load(f)\n",
    "\n"
   ]
  },
  {
   "cell_type": "markdown",
   "id": "e3cc9103-58ee-42e7-b069-0bc03e0645f3",
   "metadata": {},
   "source": [
    "## API endpoint"
   ]
  },
  {
   "cell_type": "code",
   "execution_count": 3,
   "id": "31610a76-0398-4341-a6fd-01f463162460",
   "metadata": {},
   "outputs": [],
   "source": [
    "\n",
    "api_endpoint = \"https://biosummary.pythonanywhere.com/summary\"\n"
   ]
  },
  {
   "cell_type": "markdown",
   "id": "58c692de-0b22-4753-914a-a59bb68e827e",
   "metadata": {},
   "source": [
    "## Calling API"
   ]
  },
  {
   "cell_type": "code",
   "execution_count": 4,
   "id": "2420b91f-af7a-4fb3-b167-88195bac9b69",
   "metadata": {},
   "outputs": [
    {
     "name": "stdout",
     "output_type": "stream",
     "text": [
      "Cyclosporine, citalopram, lidocaine, and various other drugs present potential treatment options for manifestations of Ehlers-Danlos syndrome, hypermobility type. Cyclosporine, an immunosuppressant, may alleviate arthralgia and xerophthalmia by potentially modulating COL3A1 activity, a gene linked to the condition. However, its use should be cautious due to the risk of gingival overgrowth, impacting connective tissues. Citalopram, a selective serotonin reuptake inhibitor, shows promise in managing depressive disorder and anxiety, common in EDS-HT. Lidocaine, a local anesthetic, is being explored for multiple conditions like depressive disorder and cardiac rhythm disease, addressing both physical and mental health aspects. Notably, cortisol, a steroid hormone, exhibits a broad spectrum of applications in EDS-HT, including targeting osteoarthritis and fatigue, commonly seen in patients. Its interaction with TGFB1 and COL5A1 suggests a potential role in collagen metabolism relevant to EDS-HT. Overall, the diverse range of drugs, from anti-inflammatories to analgesics, reflects the multifaceted nature of EDS-HT, where the systemic impact on connective tissues necessitates a comprehensive treatment approach. Each drug's potential effects on different phenotypes like chronic pain, osteoarthritis, and mental health concerns underscore the complexity of managing EDS-HT symptoms. It's important to note that while these drugs offer promising avenues for treatment, many are still under investigation in clinical trials, highlighting the ongoing efforts to establish their efficacy and safety in the context of EDS-HT."
     ]
    }
   ],
   "source": [
    "def stream_response(url, data):\n",
    "    headers = {'Content-Type': 'application/json'}\n",
    "    response = requests.post(url, json=data, headers=headers, stream=True)\n",
    "    \n",
    "    if response.status_code == 200:\n",
    "        for chunk in response.iter_content(chunk_size=1, decode_unicode=True):\n",
    "            if chunk:\n",
    "                print(chunk, end='', flush=True)\n",
    "    else:\n",
    "        print(f\"Error: {response.status_code}\")\n",
    "        print(response.text)\n",
    "\n",
    "\n",
    "\n",
    "stream_response(api_endpoint, data)\n"
   ]
  },
  {
   "cell_type": "code",
   "execution_count": null,
   "id": "e70411bf-58c5-40ee-a270-d0c7b35f25ea",
   "metadata": {},
   "outputs": [],
   "source": []
  }
 ],
 "metadata": {
  "kernelspec": {
   "display_name": "Python 3 (ipykernel)",
   "language": "python",
   "name": "python3"
  },
  "language_info": {
   "codemirror_mode": {
    "name": "ipython",
    "version": 3
   },
   "file_extension": ".py",
   "mimetype": "text/x-python",
   "name": "python",
   "nbconvert_exporter": "python",
   "pygments_lexer": "ipython3",
   "version": "3.10.9"
  }
 },
 "nbformat": 4,
 "nbformat_minor": 5
}
